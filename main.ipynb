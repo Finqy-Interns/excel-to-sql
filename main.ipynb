{
 "cells": [
  {
   "cell_type": "code",
   "execution_count": 36,
   "metadata": {},
   "outputs": [],
   "source": [
    "import pandas as pd\n",
    "import numpy as np\n",
    "import sqlizer\n",
    "import sqlite3\n",
    "import mysql.connector\n",
    "import sqlalchemy\n",
    "import pymysql\n",
    "import os"
   ]
  },
  {
   "cell_type": "code",
   "execution_count": 37,
   "metadata": {},
   "outputs": [],
   "source": [
    "conn=mysql.connector.connect(\n",
    "    host='localhost',\n",
    "    user='nilaygaitonde',\n",
    "    password='Nilay0309',\n",
    "    database='Customer',\n",
    ")\n",
    "mycursor=conn.cursor()"
   ]
  },
  {
   "cell_type": "code",
   "execution_count": 38,
   "metadata": {},
   "outputs": [],
   "source": [
    "filePath = '/Users/nilaygaitonde/Downloads/Hello/'\n",
    "files = os.listdir(filePath)\n",
    "pdf_files = [f for f in files if f.endswith('.xlsx')]\n",
    "for file in pdf_files:\n",
    "    # print(file)\n",
    "    df_dict = pd.read_excel(f'{filePath}{file}', sheet_name=None)\n",
    "    df_all = pd.concat(df_dict.values(), ignore_index=True)"
   ]
  },
  {
   "cell_type": "code",
   "execution_count": 39,
   "metadata": {},
   "outputs": [
    {
     "data": {
      "text/plain": [
       "(12584, 8)"
      ]
     },
     "execution_count": 39,
     "metadata": {},
     "output_type": "execute_result"
    }
   ],
   "source": [
    "df_all.shape"
   ]
  },
  {
   "cell_type": "code",
   "execution_count": 40,
   "metadata": {},
   "outputs": [],
   "source": [
    "df_all.to_excel('Book9.xlsx', index=False)"
   ]
  },
  {
   "cell_type": "code",
   "execution_count": 41,
   "metadata": {},
   "outputs": [
    {
     "data": {
      "text/html": [
       "<div>\n",
       "<style scoped>\n",
       "    .dataframe tbody tr th:only-of-type {\n",
       "        vertical-align: middle;\n",
       "    }\n",
       "\n",
       "    .dataframe tbody tr th {\n",
       "        vertical-align: top;\n",
       "    }\n",
       "\n",
       "    .dataframe thead th {\n",
       "        text-align: right;\n",
       "    }\n",
       "</style>\n",
       "<table border=\"1\" class=\"dataframe\">\n",
       "  <thead>\n",
       "    <tr style=\"text-align: right;\">\n",
       "      <th></th>\n",
       "      <th>primary_number</th>\n",
       "      <th>secondary_number</th>\n",
       "      <th>email</th>\n",
       "      <th>name</th>\n",
       "      <th>organization</th>\n",
       "      <th>city</th>\n",
       "      <th>pin_code</th>\n",
       "      <th>designation</th>\n",
       "    </tr>\n",
       "  </thead>\n",
       "  <tbody>\n",
       "    <tr>\n",
       "      <th>0</th>\n",
       "      <td>9935440462</td>\n",
       "      <td>NaN</td>\n",
       "      <td>NaN</td>\n",
       "      <td>F. Amrit</td>\n",
       "      <td>Param Jyoti Saree Center</td>\n",
       "      <td>Barabanki</td>\n",
       "      <td>110006.0</td>\n",
       "      <td>NaN</td>\n",
       "    </tr>\n",
       "    <tr>\n",
       "      <th>1</th>\n",
       "      <td>9415048902</td>\n",
       "      <td>9811512999.0</td>\n",
       "      <td>ranisatirice@gmail.com</td>\n",
       "      <td>Akash Bhatt</td>\n",
       "      <td>Shree Rani Sati Overseas Private Limited</td>\n",
       "      <td>Barabanki</td>\n",
       "      <td>110007.0</td>\n",
       "      <td>Manager</td>\n",
       "    </tr>\n",
       "    <tr>\n",
       "      <th>2</th>\n",
       "      <td>8234156789</td>\n",
       "      <td>NaN</td>\n",
       "      <td>jwrtfygjhmg@mail.ru</td>\n",
       "      <td>Vishwakarma</td>\n",
       "      <td>Vishwakarma Electrical Plaza</td>\n",
       "      <td>Barabanki</td>\n",
       "      <td>110029.0</td>\n",
       "      <td>NaN</td>\n",
       "    </tr>\n",
       "    <tr>\n",
       "      <th>3</th>\n",
       "      <td>8078562314</td>\n",
       "      <td>NaN</td>\n",
       "      <td>gbcvnbxchn@mail.ru</td>\n",
       "      <td>Adithya</td>\n",
       "      <td>Adithya Electrical Plaza</td>\n",
       "      <td>Barabanki</td>\n",
       "      <td>110029.0</td>\n",
       "      <td>NaN</td>\n",
       "    </tr>\n",
       "    <tr>\n",
       "      <th>4</th>\n",
       "      <td>9670060679</td>\n",
       "      <td>9650035908.0</td>\n",
       "      <td>ramesh.jangid@sharpglobal.in</td>\n",
       "      <td>Ramesh Jangid</td>\n",
       "      <td>Sharp Global Limited</td>\n",
       "      <td>Barabanki</td>\n",
       "      <td>110033.0</td>\n",
       "      <td>NaN</td>\n",
       "    </tr>\n",
       "  </tbody>\n",
       "</table>\n",
       "</div>"
      ],
      "text/plain": [
       "   primary_number secondary_number                         email  \\\n",
       "0      9935440462              NaN                           NaN   \n",
       "1      9415048902     9811512999.0        ranisatirice@gmail.com   \n",
       "2      8234156789              NaN           jwrtfygjhmg@mail.ru   \n",
       "3      8078562314              NaN            gbcvnbxchn@mail.ru   \n",
       "4      9670060679     9650035908.0  ramesh.jangid@sharpglobal.in   \n",
       "\n",
       "            name                              organization       city  \\\n",
       "0       F. Amrit                  Param Jyoti Saree Center  Barabanki   \n",
       "1    Akash Bhatt  Shree Rani Sati Overseas Private Limited  Barabanki   \n",
       "2    Vishwakarma              Vishwakarma Electrical Plaza  Barabanki   \n",
       "3        Adithya                  Adithya Electrical Plaza  Barabanki   \n",
       "4  Ramesh Jangid                      Sharp Global Limited  Barabanki   \n",
       "\n",
       "   pin_code designation  \n",
       "0  110006.0         NaN  \n",
       "1  110007.0     Manager  \n",
       "2  110029.0         NaN  \n",
       "3  110029.0         NaN  \n",
       "4  110033.0         NaN  "
      ]
     },
     "execution_count": 41,
     "metadata": {},
     "output_type": "execute_result"
    }
   ],
   "source": [
    "df_all.head()\n",
    "df_all = df_all.rename(columns={'Mobile 1':'primary_number','Mobile 2':'secondary_number','Email':'email','Name':'name','City':'city','Pin Code':'pin_code','Designation':'designation','Org':'organization'})\n",
    "df_all.head()"
   ]
  },
  {
   "cell_type": "code",
   "execution_count": 42,
   "metadata": {},
   "outputs": [],
   "source": [
    "table = \"\"\"CREATE TABLE IF NOT EXISTS Customer (\n",
    "    primary_number VARCHAR(255),\n",
    "    secondary_number VARCHAR(255),\n",
    "    email VARCHAR(255),\n",
    "    name VARCHAR(255),\n",
    "    organization VARCHAR(255),\n",
    "    city VARCHAR(255),\n",
    "    pin_code VARCHAR(255),\n",
    "    designation VARCHAR(255)\n",
    ");\n",
    "\"\"\"\n",
    "mycursor.execute(table)"
   ]
  },
  {
   "cell_type": "code",
   "execution_count": 43,
   "metadata": {},
   "outputs": [],
   "source": [
    "engine = sqlalchemy.create_engine(\"mysql+pymysql://\" + 'nilaygaitonde' + \":\" + 'Nilay0309' + \"@\" + 'localhost' + \"/\" + 'Customer')"
   ]
  },
  {
   "cell_type": "code",
   "execution_count": 44,
   "metadata": {},
   "outputs": [
    {
     "data": {
      "text/plain": [
       "12584"
      ]
     },
     "execution_count": 44,
     "metadata": {},
     "output_type": "execute_result"
    }
   ],
   "source": [
    "# df_all.to_sql('Customers',engine,if_exists='append',index=False,schema='Customer')\n",
    "df_all.to_sql('Customers',engine,if_exists='replace',index=False,schema='Customer')"
   ]
  },
  {
   "cell_type": "code",
   "execution_count": 45,
   "metadata": {},
   "outputs": [
    {
     "name": "stdout",
     "output_type": "stream",
     "text": [
      "-1\n"
     ]
    }
   ],
   "source": [
    "mycursor.execute(\"SELECT * FROM Customers\")\n",
    "print(mycursor.rowcount)"
   ]
  }
 ],
 "metadata": {
  "kernelspec": {
   "display_name": "sql",
   "language": "python",
   "name": "python3"
  },
  "language_info": {
   "codemirror_mode": {
    "name": "ipython",
    "version": 3
   },
   "file_extension": ".py",
   "mimetype": "text/x-python",
   "name": "python",
   "nbconvert_exporter": "python",
   "pygments_lexer": "ipython3",
   "version": "3.9.15"
  },
  "orig_nbformat": 4,
  "vscode": {
   "interpreter": {
    "hash": "9d916c2122df3488d01370e9ab25d0065a06f6877d603745685f129d0a8a25c4"
   }
  }
 },
 "nbformat": 4,
 "nbformat_minor": 2
}
