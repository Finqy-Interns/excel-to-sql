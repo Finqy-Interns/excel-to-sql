{
 "cells": [
  {
   "cell_type": "code",
   "execution_count": 12,
   "metadata": {},
   "outputs": [],
   "source": [
    "import pandas as pd\n",
    "import numpy as np\n",
    "import openpyxl\n",
    "import sqlizer\n",
    "import sqlite3\n",
    "import mysql.connector\n",
    "import sqlalchemy\n",
    "import pymysql\n",
    "import os"
   ]
  },
  {
   "cell_type": "code",
   "execution_count": 23,
   "metadata": {},
   "outputs": [],
   "source": [
    "conn=mysql.connector.connect(\n",
    "    host='localhost',\n",
    "    user='nilaygaitonde',\n",
    "    password='Nilay0309',\n",
    "    database='Customer',\n",
    ")\n",
    "mycursor=conn.cursor()"
   ]
  },
  {
   "cell_type": "code",
   "execution_count": 5,
   "metadata": {},
   "outputs": [
    {
     "name": "stdout",
     "output_type": "stream",
     "text": [
      "['Propogate_Data', ' Pan India Naptools', 'Online Soppers part3', 'Online Sellers OLX', 'Naptol Mumbai 1', 'Naptol Mumbai 2', 'Mahrashtra 5-4 lakh list', 'F-Male Online', 'Flipkart Sellers Data', '6-8 Lakh Online Shoppers', 'Sheet1']\n"
     ]
    }
   ],
   "source": [
    "wb = openpyxl.load_workbook('/Users/nilaygaitonde/Downloads/Data ERB 1.xlsx')\n",
    "print(wb.sheetnames)"
   ]
  },
  {
   "cell_type": "code",
   "execution_count": 8,
   "metadata": {},
   "outputs": [],
   "source": [
    "df = pd.read_excel('/Users/nilaygaitonde/Downloads/Data ERB 1.xlsx', sheet_name='Propogate_Data')"
   ]
  },
  {
   "cell_type": "code",
   "execution_count": 15,
   "metadata": {},
   "outputs": [],
   "source": [
    "df_1 = pd.read_excel('/Users/nilaygaitonde/Downloads/Data ERB 1.xlsx', sheet_name=' Pan India Naptools')"
   ]
  },
  {
   "cell_type": "code",
   "execution_count": 45,
   "metadata": {},
   "outputs": [
    {
     "data": {
      "text/plain": [
       "Index(['Name', 'Mobile', 'Email Id', 'City', 'Adress', 'State', 'Pincode',\n",
       "       'DOB', 'Pan Id', 'Annual Income', 'Payment Bank', 'Payment Mode',\n",
       "       'Type of Acc', 'District', 'Locality', 'Sum Insured', 'Plan Type',\n",
       "       'Proof Id'],\n",
       "      dtype='object')"
      ]
     },
     "execution_count": 45,
     "metadata": {},
     "output_type": "execute_result"
    }
   ],
   "source": [
    "# apply strip to each colums\n",
    "df.columns = df.columns.str.strip()\n",
    "df.columns"
   ]
  },
  {
   "cell_type": "code",
   "execution_count": 17,
   "metadata": {},
   "outputs": [
    {
     "data": {
      "text/plain": [
       "Index(['Name', 'Mobile', 'Email Id', 'City', 'Adress', 'State', 'Pincode',\n",
       "       'DOB', 'Pan Id', 'Annual Income', 'Payment Bank', 'Payment Mode',\n",
       "       'Type of Acc', 'District', 'Locality', 'Sum Insured ', 'Plan Type',\n",
       "       'Proof Id'],\n",
       "      dtype='object')"
      ]
     },
     "execution_count": 17,
     "metadata": {},
     "output_type": "execute_result"
    }
   ],
   "source": [
    "df_1.columns"
   ]
  },
  {
   "cell_type": "code",
   "execution_count": 22,
   "metadata": {},
   "outputs": [
    {
     "data": {
      "text/html": [
       "<div>\n",
       "<style scoped>\n",
       "    .dataframe tbody tr th:only-of-type {\n",
       "        vertical-align: middle;\n",
       "    }\n",
       "\n",
       "    .dataframe tbody tr th {\n",
       "        vertical-align: top;\n",
       "    }\n",
       "\n",
       "    .dataframe thead th {\n",
       "        text-align: right;\n",
       "    }\n",
       "</style>\n",
       "<table border=\"1\" class=\"dataframe\">\n",
       "  <thead>\n",
       "    <tr style=\"text-align: right;\">\n",
       "      <th></th>\n",
       "      <th>Name</th>\n",
       "      <th>Mobile</th>\n",
       "      <th>Email Id</th>\n",
       "      <th>City</th>\n",
       "      <th>Adress</th>\n",
       "      <th>State</th>\n",
       "      <th>Pincode</th>\n",
       "      <th>DOB</th>\n",
       "      <th>Pan Id</th>\n",
       "      <th>Annual Income</th>\n",
       "      <th>Payment Bank</th>\n",
       "      <th>Payment Mode</th>\n",
       "      <th>Type of Acc</th>\n",
       "      <th>District</th>\n",
       "      <th>Locality</th>\n",
       "      <th>Sum Insured</th>\n",
       "      <th>Plan Type</th>\n",
       "      <th>Proof Id</th>\n",
       "    </tr>\n",
       "  </thead>\n",
       "  <tbody>\n",
       "    <tr>\n",
       "      <th>0</th>\n",
       "      <td>SurendarBangaru</td>\n",
       "      <td>9769701212</td>\n",
       "      <td>surendar.bangaru@gmail.com</td>\n",
       "      <td>Mumbai</td>\n",
       "      <td>NaN</td>\n",
       "      <td>Maharashtra</td>\n",
       "      <td>NaN</td>\n",
       "      <td>NaN</td>\n",
       "      <td>NaN</td>\n",
       "      <td>NaN</td>\n",
       "      <td>NaN</td>\n",
       "      <td>HDFC Net Banking</td>\n",
       "      <td>NaN</td>\n",
       "      <td>NaN</td>\n",
       "      <td>NaN</td>\n",
       "      <td>NaN</td>\n",
       "      <td>NaN</td>\n",
       "      <td>NaN</td>\n",
       "    </tr>\n",
       "    <tr>\n",
       "      <th>1</th>\n",
       "      <td>Vani M</td>\n",
       "      <td>9867967566</td>\n",
       "      <td>sinchana.vani@gmail.com</td>\n",
       "      <td>Mumbai</td>\n",
       "      <td>NaN</td>\n",
       "      <td>Maharashtra</td>\n",
       "      <td>NaN</td>\n",
       "      <td>NaN</td>\n",
       "      <td>NaN</td>\n",
       "      <td>NaN</td>\n",
       "      <td>NaN</td>\n",
       "      <td>Cash on Delivery</td>\n",
       "      <td>NaN</td>\n",
       "      <td>NaN</td>\n",
       "      <td>NaN</td>\n",
       "      <td>NaN</td>\n",
       "      <td>NaN</td>\n",
       "      <td>NaN</td>\n",
       "    </tr>\n",
       "    <tr>\n",
       "      <th>2</th>\n",
       "      <td>rubeenap</td>\n",
       "      <td>9881008478</td>\n",
       "      <td>rubeena.peerzade@gmail.com</td>\n",
       "      <td>Pune</td>\n",
       "      <td>NaN</td>\n",
       "      <td>Maharashtra</td>\n",
       "      <td>NaN</td>\n",
       "      <td>NaN</td>\n",
       "      <td>NaN</td>\n",
       "      <td>NaN</td>\n",
       "      <td>NaN</td>\n",
       "      <td>Cash on Delivery</td>\n",
       "      <td>NaN</td>\n",
       "      <td>NaN</td>\n",
       "      <td>NaN</td>\n",
       "      <td>NaN</td>\n",
       "      <td>NaN</td>\n",
       "      <td>NaN</td>\n",
       "    </tr>\n",
       "    <tr>\n",
       "      <th>3</th>\n",
       "      <td>Vathsala JPrakash</td>\n",
       "      <td>9820333143</td>\n",
       "      <td>vatjp@yahoo.co.in</td>\n",
       "      <td>Mumbai</td>\n",
       "      <td>NaN</td>\n",
       "      <td>Maharashtra</td>\n",
       "      <td>NaN</td>\n",
       "      <td>NaN</td>\n",
       "      <td>NaN</td>\n",
       "      <td>NaN</td>\n",
       "      <td>NaN</td>\n",
       "      <td>Cash on Delivery</td>\n",
       "      <td>NaN</td>\n",
       "      <td>NaN</td>\n",
       "      <td>NaN</td>\n",
       "      <td>NaN</td>\n",
       "      <td>NaN</td>\n",
       "      <td>NaN</td>\n",
       "    </tr>\n",
       "    <tr>\n",
       "      <th>4</th>\n",
       "      <td>VISHNU V</td>\n",
       "      <td>9890907710</td>\n",
       "      <td>vvishnu687p@gmail.com</td>\n",
       "      <td>Pune</td>\n",
       "      <td>NaN</td>\n",
       "      <td>Maharashtra</td>\n",
       "      <td>NaN</td>\n",
       "      <td>NaN</td>\n",
       "      <td>NaN</td>\n",
       "      <td>NaN</td>\n",
       "      <td>NaN</td>\n",
       "      <td>Dollar Dream Points</td>\n",
       "      <td>NaN</td>\n",
       "      <td>NaN</td>\n",
       "      <td>NaN</td>\n",
       "      <td>NaN</td>\n",
       "      <td>NaN</td>\n",
       "      <td>NaN</td>\n",
       "    </tr>\n",
       "  </tbody>\n",
       "</table>\n",
       "</div>"
      ],
      "text/plain": [
       "                Name      Mobile                    Email Id    City  Adress  \\\n",
       "0    SurendarBangaru  9769701212  surendar.bangaru@gmail.com  Mumbai     NaN   \n",
       "1             Vani M  9867967566     sinchana.vani@gmail.com  Mumbai     NaN   \n",
       "2           rubeenap  9881008478  rubeena.peerzade@gmail.com    Pune     NaN   \n",
       "3  Vathsala JPrakash  9820333143           vatjp@yahoo.co.in  Mumbai     NaN   \n",
       "4           VISHNU V  9890907710       vvishnu687p@gmail.com    Pune     NaN   \n",
       "\n",
       "         State  Pincode  DOB  Pan Id  Annual Income  Payment Bank  \\\n",
       "0  Maharashtra      NaN  NaN     NaN            NaN           NaN   \n",
       "1  Maharashtra      NaN  NaN     NaN            NaN           NaN   \n",
       "2  Maharashtra      NaN  NaN     NaN            NaN           NaN   \n",
       "3  Maharashtra      NaN  NaN     NaN            NaN           NaN   \n",
       "4  Maharashtra      NaN  NaN     NaN            NaN           NaN   \n",
       "\n",
       "          Payment Mode  Type of Acc  District  Locality  Sum Insured   \\\n",
       "0     HDFC Net Banking          NaN       NaN       NaN           NaN   \n",
       "1     Cash on Delivery          NaN       NaN       NaN           NaN   \n",
       "2     Cash on Delivery          NaN       NaN       NaN           NaN   \n",
       "3     Cash on Delivery          NaN       NaN       NaN           NaN   \n",
       "4  Dollar Dream Points          NaN       NaN       NaN           NaN   \n",
       "\n",
       "   Plan Type  Proof Id  \n",
       "0        NaN       NaN  \n",
       "1        NaN       NaN  \n",
       "2        NaN       NaN  \n",
       "3        NaN       NaN  \n",
       "4        NaN       NaN  "
      ]
     },
     "execution_count": 22,
     "metadata": {},
     "output_type": "execute_result"
    }
   ],
   "source": [
    "df.head()"
   ]
  },
  {
   "cell_type": "code",
   "execution_count": 47,
   "metadata": {},
   "outputs": [
    {
     "data": {
      "text/plain": [
       "(143330, 18)"
      ]
     },
     "execution_count": 47,
     "metadata": {},
     "output_type": "execute_result"
    }
   ],
   "source": [
    "df['City'].unique()"
   ]
  },
  {
   "cell_type": "code",
   "execution_count": 42,
   "metadata": {},
   "outputs": [
    {
     "data": {
      "text/plain": [
       "Name                487\n",
       "Mobile                1\n",
       "Email Id              7\n",
       "City                  0\n",
       "Adress           143330\n",
       "State                 0\n",
       "Pincode          143330\n",
       "DOB              143330\n",
       "Pan Id           143330\n",
       "Annual Income    143330\n",
       "Payment Bank     143330\n",
       "Payment Mode          0\n",
       "Type of Acc      143330\n",
       "District         143330\n",
       "Locality         143330\n",
       "Sum Insured      143330\n",
       "Plan Type        143330\n",
       "Proof Id         143330\n",
       "dtype: int64"
      ]
     },
     "execution_count": 42,
     "metadata": {},
     "output_type": "execute_result"
    }
   ],
   "source": [
    "df.isnull().sum()"
   ]
  },
  {
   "cell_type": "code",
   "execution_count": 24,
   "metadata": {},
   "outputs": [],
   "source": [
    "table = \"\"\"CREATE TABLE IF NOT EXISTS Customer (\n",
    "    primary_number VARCHAR(255),\n",
    "    secondary_number VARCHAR(255),\n",
    "    email VARCHAR(255),\n",
    "    name VARCHAR(255),\n",
    "    organization VARCHAR(255),\n",
    "    city VARCHAR(255),\n",
    "    pin_code VARCHAR(255),\n",
    "    designation VARCHAR(255)\n",
    ");\n",
    "\"\"\"\n",
    "mycursor.execute(table)"
   ]
  },
  {
   "cell_type": "code",
   "execution_count": 25,
   "metadata": {},
   "outputs": [],
   "source": [
    "engine = sqlalchemy.create_engine(\"mysql+pymysql://\" + 'nilaygaitonde' + \":\" + 'Nilay0309' + \"@\" + 'localhost' + \"/\" + 'Customer')"
   ]
  },
  {
   "cell_type": "code",
   "execution_count": 46,
   "metadata": {},
   "outputs": [
    {
     "data": {
      "text/plain": [
       "143330"
      ]
     },
     "execution_count": 46,
     "metadata": {},
     "output_type": "execute_result"
    }
   ],
   "source": [
    "df.to_sql('Customers',engine,if_exists='replace',index=False)"
   ]
  },
  {
   "cell_type": "code",
   "execution_count": null,
   "metadata": {},
   "outputs": [],
   "source": [
    "# df_3 = pd.read_excel('/Users/nilaygaitonde/Downloads/Data ERB 1.xlsx', sheet_name='Online Soppers part4')"
   ]
  },
  {
   "cell_type": "code",
   "execution_count": null,
   "metadata": {},
   "outputs": [],
   "source": [
    "# df_4 = pd.read_excel('/Users/nilaygaitonde/Downloads/Data ERB 1.xlsx', sheet_name='Online Soppers part5')"
   ]
  }
 ],
 "metadata": {
  "kernelspec": {
   "display_name": "sql",
   "language": "python",
   "name": "python3"
  },
  "language_info": {
   "codemirror_mode": {
    "name": "ipython",
    "version": 3
   },
   "file_extension": ".py",
   "mimetype": "text/x-python",
   "name": "python",
   "nbconvert_exporter": "python",
   "pygments_lexer": "ipython3",
   "version": "3.9.15"
  },
  "orig_nbformat": 4,
  "vscode": {
   "interpreter": {
    "hash": "9d916c2122df3488d01370e9ab25d0065a06f6877d603745685f129d0a8a25c4"
   }
  }
 },
 "nbformat": 4,
 "nbformat_minor": 2
}
