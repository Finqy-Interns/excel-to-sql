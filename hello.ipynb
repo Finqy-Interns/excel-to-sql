{
 "cells": [
  {
   "cell_type": "code",
   "execution_count": null,
   "metadata": {},
   "outputs": [],
   "source": [
    "import pandas as pd\n",
    "import numpy as np\n",
    "import openpyxl\n",
    "import sqlizer\n",
    "import sqlite3\n",
    "import mysql.connector\n",
    "import sqlalchemy\n",
    "import pymysql\n",
    "import os\n",
    "import datetime\n",
    "import re"
   ]
  },
  {
   "cell_type": "code",
   "execution_count": null,
   "metadata": {},
   "outputs": [],
   "source": [
    "conn=mysql.connector.connect(\n",
    "    host='car-campaign-data.mysql.database.azure.com',\n",
    "    user='harsh_shah',\n",
    "    password='vInwun-ruqvux-0xuvty',\n",
    "    database='campaign-data',\n",
    "    port=3306,\n",
    "    client_flags=[mysql.connector.ClientFlag.SSL],\n",
    "    ssl_ca=\"/Users/nilaygaitonde/Documents/E-RevBay/SQLwork/DigiCertGlobalRootG2.crt.pem\"\n",
    ")\n",
    "mycursor=conn.cursor()"
   ]
  },
  {
   "cell_type": "code",
   "execution_count": null,
   "metadata": {},
   "outputs": [],
   "source": [
    "wb = openpyxl.load_workbook('/Users/nilaygaitonde/Downloads/Data ERB 1.xlsx')"
   ]
  },
  {
   "cell_type": "code",
   "execution_count": null,
   "metadata": {},
   "outputs": [],
   "source": [
    "wb.sheetnames"
   ]
  },
  {
   "cell_type": "code",
   "execution_count": null,
   "metadata": {},
   "outputs": [],
   "source": [
    "table = \"\"\"CREATE TABLE IF NOT EXISTS Customer (\n",
    "    primary_number VARCHAR(255),\n",
    "    secondary_number VARCHAR(255),\n",
    "    email VARCHAR(255),\n",
    "    name VARCHAR(255),\n",
    "    organization VARCHAR(255),\n",
    "    city VARCHAR(255),\n",
    "    pin_code VARCHAR(255),\n",
    "    designation VARCHAR(255)\n",
    ");\n",
    "\"\"\"\n",
    "mycursor.execute(table)"
   ]
  },
  {
   "cell_type": "code",
   "execution_count": null,
   "metadata": {},
   "outputs": [],
   "source": [
    "mycursor.execute(\"CREATE TABLE testing (name VARCHAR(255), address VARCHAR(255))\")"
   ]
  },
  {
   "cell_type": "code",
   "execution_count": null,
   "metadata": {},
   "outputs": [],
   "source": [
    "sql = \"INSERT INTO testing (name, address) VALUES (%s, %s)\"\n",
    "val = (\"John\", \"Highway 21\")\n",
    "mycursor.execute(sql, val)\n",
    "\n",
    "conn.commit()\n",
    "\n",
    "print(mycursor.rowcount, \"record inserted.\")"
   ]
  },
  {
   "cell_type": "code",
   "execution_count": null,
   "metadata": {},
   "outputs": [],
   "source": [
    "engine = sqlalchemy.create_engine(\"mysql+pymysql://\" + 'harsh_shah' + \":\" + 'vInwun-ruqvux-0xuvty' + \"@\" + 'car-campaign-data.mysql.database.azure.com' + \"/\" + 'campaign-data')"
   ]
  },
  {
   "cell_type": "code",
   "execution_count": null,
   "metadata": {},
   "outputs": [],
   "source": [
    "# ADD ROW TO TABLE\n",
    "# sql = \n",
    "# val = \n",
    "mycursor.execute(\"INSERT INTO Customer (primary_number, secondary_number, email, name, organization, city, pin_code, designation) VALUES (%s, %s, %s, %s, %s, %s, %s, %s)\", (\"1234567890\", \"1234567890\", \"nilay0160@gmail.com\",\"Nilay Gaitonde\",'NMIMS','Mumbai','400058','Intern'))\n",
    "conn.commit()"
   ]
  },
  {
   "cell_type": "code",
   "execution_count": null,
   "metadata": {},
   "outputs": [],
   "source": [
    "# regex to convert 'Rs. 7.5 lacs annually' to numeric value'\n",
    "def convert_to_number(text):\n",
    "    result = re.search(r'Rs\\.\\s([\\d.]+)\\s(lacs|crores)\\sannually', text)\n",
    "    if result:\n",
    "        value = float(result.group(1))\n",
    "        if result.group(2) == 'crores':\n",
    "            value *= 10000000\n",
    "        elif result.group(2) == 'lacs':\n",
    "            value *= 100000\n",
    "        return (value)"
   ]
  },
  {
   "cell_type": "code",
   "execution_count": null,
   "metadata": {},
   "outputs": [],
   "source": [
    "sheetnames = ['Propogate_Data',\n",
    " ' Pan India Naptools',\n",
    " 'Online Soppers part3',\n",
    " 'Online Sellers OLX',\n",
    " 'Naptol Mumbai 1',\n",
    " 'Naptol Mumbai 2',\n",
    " 'Mahrashtra 5-4 lakh list',\n",
    " 'F-Male Online',\n",
    " 'Flipkart Sellers Data',\n",
    " '6-8 Lakh Online Shoppers',\n",
    " 'Sheet1']\n",
    "for sheet in sheetnames:\n",
    "    print(sheet)\n",
    "    if(sheet in ['Propogate_Data',\n",
    " ' Pan India Naptools',\n",
    " 'Online Soppers part3']):\n",
    "        pass\n",
    "    else:\n",
    "        df = pd.read_excel('/Users/nilaygaitonde/Downloads/Data ERB 1.xlsx', sheet_name=sheet)\n",
    "        df.columns = df.columns.str.strip()\n",
    "        df['Source'] = sheet\n",
    "        try:\n",
    "            df['Annual Income'] = df['Annual Income'].apply(convert_to_number)\n",
    "        except TypeError:\n",
    "            pass\n",
    "        print(\"To SQL\")\n",
    "        df.to_sql('Customers',engine,if_exists='append',index=False)"
   ]
  },
  {
   "cell_type": "code",
   "execution_count": null,
   "metadata": {},
   "outputs": [],
   "source": [
    "# df.loc[~df['Annual Income'].isna()]\n",
    "df['Annual Income'] = df['Annual Income'].apply(lambda x: x.strip() if type(x) == str else x)\n",
    "df['Annual Income'] = df['Annual Income'].apply(lambda x: float(x) if type(x) == str else x)"
   ]
  },
  {
   "cell_type": "code",
   "execution_count": null,
   "metadata": {},
   "outputs": [],
   "source": [
    "df.shape"
   ]
  },
  {
   "cell_type": "code",
   "execution_count": 2,
   "metadata": {},
   "outputs": [],
   "source": [
    "df = pd.read_excel('/Users/nilaygaitonde/Downloads/Data ERB 3.xlsx', sheet_name='PAN India Paytm Users')"
   ]
  },
  {
   "cell_type": "code",
   "execution_count": 13,
   "metadata": {},
   "outputs": [],
   "source": [
    "new_df = df.copy()"
   ]
  },
  {
   "cell_type": "code",
   "execution_count": 14,
   "metadata": {},
   "outputs": [],
   "source": [
    "def is_phone_number(val):\n",
    "    return type(val) == datetime.datetime or type(val) == float"
   ]
  },
  {
   "cell_type": "code",
   "execution_count": 5,
   "metadata": {},
   "outputs": [
    {
     "data": {
      "text/plain": [
       "(50880, 18)"
      ]
     },
     "execution_count": 5,
     "metadata": {},
     "output_type": "execute_result"
    }
   ],
   "source": [
    "new_df.shape"
   ]
  },
  {
   "cell_type": "code",
   "execution_count": 6,
   "metadata": {},
   "outputs": [
    {
     "data": {
      "text/plain": [
       "Int64Index([ 5760,  5761,  5762,  5763,  5764,  5765,  5766,  5767,  5768,\n",
       "             5769,\n",
       "            ...\n",
       "            30162, 30164, 30167, 30170, 30171, 30199, 30202, 30210, 30218,\n",
       "            30232],\n",
       "           dtype='int64', length=559)"
      ]
     },
     "execution_count": 6,
     "metadata": {},
     "output_type": "execute_result"
    }
   ],
   "source": [
    "new_df[new_df['DOB'].apply(lambda x: not is_phone_number(x))].index"
   ]
  },
  {
   "cell_type": "code",
   "execution_count": 20,
   "metadata": {},
   "outputs": [],
   "source": [
    "test_df = new_df.loc[new_df['DOB'].apply(lambda x: not is_phone_number(x))]"
   ]
  },
  {
   "cell_type": "code",
   "execution_count": 22,
   "metadata": {},
   "outputs": [
    {
     "name": "stderr",
     "output_type": "stream",
     "text": [
      "/var/folders/b4/9cg_tkrn3256x3hcybpxqnpw0000gn/T/ipykernel_164/3498593898.py:1: SettingWithCopyWarning: \n",
      "A value is trying to be set on a copy of a slice from a DataFrame.\n",
      "Try using .loc[row_indexer,col_indexer] = value instead\n",
      "\n",
      "See the caveats in the documentation: https://pandas.pydata.org/pandas-docs/stable/user_guide/indexing.html#returning-a-view-versus-a-copy\n",
      "  test_df['DOB'] = pd.to_datetime(test_df['DOB'],errors='coerce')\n"
     ]
    }
   ],
   "source": [
    "test_df['Mobile'] = pd.to_numeric(test_df['Mobile'],errors='coerce')"
   ]
  },
  {
   "cell_type": "code",
   "execution_count": 9,
   "metadata": {},
   "outputs": [],
   "source": [
    "new_df.drop(new_df[new_df['DOB'].apply(lambda x: not is_phone_number(x))].index,inplace=True)"
   ]
  },
  {
   "cell_type": "code",
   "execution_count": 25,
   "metadata": {},
   "outputs": [
    {
     "data": {
      "text/plain": [
       "<class 'int'>    434\n",
       "<class 'str'>    125\n",
       "Name: Mobile, dtype: int64"
      ]
     },
     "execution_count": 25,
     "metadata": {},
     "output_type": "execute_result"
    }
   ],
   "source": [
    "test_df['Mobile'].apply(lambda x : type(x)).value_counts()"
   ]
  },
  {
   "cell_type": "code",
   "execution_count": 23,
   "metadata": {},
   "outputs": [
    {
     "data": {
      "text/html": [
       "<div>\n",
       "<style scoped>\n",
       "    .dataframe tbody tr th:only-of-type {\n",
       "        vertical-align: middle;\n",
       "    }\n",
       "\n",
       "    .dataframe tbody tr th {\n",
       "        vertical-align: top;\n",
       "    }\n",
       "\n",
       "    .dataframe thead th {\n",
       "        text-align: right;\n",
       "    }\n",
       "</style>\n",
       "<table border=\"1\" class=\"dataframe\">\n",
       "  <thead>\n",
       "    <tr style=\"text-align: right;\">\n",
       "      <th></th>\n",
       "      <th>Name</th>\n",
       "      <th>Mobile</th>\n",
       "      <th>Email Id</th>\n",
       "      <th>City</th>\n",
       "      <th>Adress</th>\n",
       "      <th>State</th>\n",
       "      <th>Pincode</th>\n",
       "      <th>DOB</th>\n",
       "      <th>Pan Id</th>\n",
       "      <th>Annual Income</th>\n",
       "      <th>Payment Bank</th>\n",
       "      <th>Payment Mode</th>\n",
       "      <th>Type of Acc</th>\n",
       "      <th>District</th>\n",
       "      <th>Locality</th>\n",
       "      <th>Sum Insured</th>\n",
       "      <th>Plan Type</th>\n",
       "      <th>Proof Id</th>\n",
       "    </tr>\n",
       "  </thead>\n",
       "  <tbody>\n",
       "    <tr>\n",
       "      <th>5760</th>\n",
       "      <td>VILAS RAMANI</td>\n",
       "      <td>Factory Head</td>\n",
       "      <td>vyramani@yahoo.com</td>\n",
       "      <td>Mumbai</td>\n",
       "      <td>FLAT G10, SUMAN IV, SUMAN COMPLEX, AGASHI ROAD...</td>\n",
       "      <td>NaN</td>\n",
       "      <td>NaN</td>\n",
       "      <td>1970-01-01 00:00:09.322797251</td>\n",
       "      <td>NaN</td>\n",
       "      <td>NaN</td>\n",
       "      <td>NaN</td>\n",
       "      <td>NaN</td>\n",
       "      <td>NaN</td>\n",
       "      <td>NaN</td>\n",
       "      <td>NaN</td>\n",
       "      <td>NaN</td>\n",
       "      <td>NaN</td>\n",
       "      <td>NaN</td>\n",
       "    </tr>\n",
       "    <tr>\n",
       "      <th>5761</th>\n",
       "      <td>AMITDESAI</td>\n",
       "      <td>Direct marketing, Events &amp; conferences, Market...</td>\n",
       "      <td>amitjdesai18@yahoo.co.in</td>\n",
       "      <td>Mumbai</td>\n",
       "      <td>VASTU SHUBH, B-WING, 3RD FLOOR, FLAT NO. 307, ...</td>\n",
       "      <td>NaN</td>\n",
       "      <td>NaN</td>\n",
       "      <td>1970-01-01 00:00:09.867284619</td>\n",
       "      <td>NaN</td>\n",
       "      <td>NaN</td>\n",
       "      <td>NaN</td>\n",
       "      <td>NaN</td>\n",
       "      <td>NaN</td>\n",
       "      <td>NaN</td>\n",
       "      <td>NaN</td>\n",
       "      <td>NaN</td>\n",
       "      <td>NaN</td>\n",
       "      <td>NaN</td>\n",
       "    </tr>\n",
       "    <tr>\n",
       "      <th>5762</th>\n",
       "      <td>ABHAYMANUDHANE</td>\n",
       "      <td>Finance, Marketing/Brand/Product, Production</td>\n",
       "      <td>anmanudhane@rediffmail.com</td>\n",
       "      <td>Mumbai</td>\n",
       "      <td>201,SHUBH ASHISH,129,MODEL TOWN 4 BUNGALOWS AN...</td>\n",
       "      <td>NaN</td>\n",
       "      <td>NaN</td>\n",
       "      <td>1970-01-01 00:00:09.820017910</td>\n",
       "      <td>NaN</td>\n",
       "      <td>NaN</td>\n",
       "      <td>NaN</td>\n",
       "      <td>NaN</td>\n",
       "      <td>NaN</td>\n",
       "      <td>NaN</td>\n",
       "      <td>NaN</td>\n",
       "      <td>NaN</td>\n",
       "      <td>NaN</td>\n",
       "      <td>NaN</td>\n",
       "    </tr>\n",
       "    <tr>\n",
       "      <th>5763</th>\n",
       "      <td>gopal tapare</td>\n",
       "      <td>Engineering, Environment, Environmental Scienc...</td>\n",
       "      <td>gopalsteam@yahoo.com</td>\n",
       "      <td>Mumbai</td>\n",
       "      <td>19, saptashrungi niwas,near golden park,beturp...</td>\n",
       "      <td>NaN</td>\n",
       "      <td>NaN</td>\n",
       "      <td>1970-01-01 00:00:09.969376119</td>\n",
       "      <td>NaN</td>\n",
       "      <td>NaN</td>\n",
       "      <td>NaN</td>\n",
       "      <td>NaN</td>\n",
       "      <td>NaN</td>\n",
       "      <td>NaN</td>\n",
       "      <td>NaN</td>\n",
       "      <td>NaN</td>\n",
       "      <td>NaN</td>\n",
       "      <td>NaN</td>\n",
       "    </tr>\n",
       "    <tr>\n",
       "      <th>5764</th>\n",
       "      <td>Aji Joseph</td>\n",
       "      <td>Advertising/Media/Arts, Corporate Sales, IT/Te...</td>\n",
       "      <td>aji2410@rediffmail.com</td>\n",
       "      <td>Mumbai</td>\n",
       "      <td>1103, Suparshav Appartments, Opp.Jain Temple, ...</td>\n",
       "      <td>NaN</td>\n",
       "      <td>NaN</td>\n",
       "      <td>1970-01-01 00:00:09.920371336</td>\n",
       "      <td>NaN</td>\n",
       "      <td>NaN</td>\n",
       "      <td>NaN</td>\n",
       "      <td>NaN</td>\n",
       "      <td>NaN</td>\n",
       "      <td>NaN</td>\n",
       "      <td>NaN</td>\n",
       "      <td>NaN</td>\n",
       "      <td>NaN</td>\n",
       "      <td>NaN</td>\n",
       "    </tr>\n",
       "  </tbody>\n",
       "</table>\n",
       "</div>"
      ],
      "text/plain": [
       "                Name                                             Mobile  \\\n",
       "5760    VILAS RAMANI                                       Factory Head   \n",
       "5761       AMITDESAI  Direct marketing, Events & conferences, Market...   \n",
       "5762  ABHAYMANUDHANE       Finance, Marketing/Brand/Product, Production   \n",
       "5763    gopal tapare  Engineering, Environment, Environmental Scienc...   \n",
       "5764      Aji Joseph  Advertising/Media/Arts, Corporate Sales, IT/Te...   \n",
       "\n",
       "                        Email Id    City  \\\n",
       "5760          vyramani@yahoo.com  Mumbai   \n",
       "5761    amitjdesai18@yahoo.co.in  Mumbai   \n",
       "5762  anmanudhane@rediffmail.com  Mumbai   \n",
       "5763        gopalsteam@yahoo.com  Mumbai   \n",
       "5764      aji2410@rediffmail.com  Mumbai   \n",
       "\n",
       "                                                 Adress  State  Pincode  \\\n",
       "5760  FLAT G10, SUMAN IV, SUMAN COMPLEX, AGASHI ROAD...    NaN      NaN   \n",
       "5761  VASTU SHUBH, B-WING, 3RD FLOOR, FLAT NO. 307, ...    NaN      NaN   \n",
       "5762  201,SHUBH ASHISH,129,MODEL TOWN 4 BUNGALOWS AN...    NaN      NaN   \n",
       "5763  19, saptashrungi niwas,near golden park,beturp...    NaN      NaN   \n",
       "5764  1103, Suparshav Appartments, Opp.Jain Temple, ...    NaN      NaN   \n",
       "\n",
       "                               DOB  Pan Id  Annual Income  Payment Bank  \\\n",
       "5760 1970-01-01 00:00:09.322797251     NaN            NaN           NaN   \n",
       "5761 1970-01-01 00:00:09.867284619     NaN            NaN           NaN   \n",
       "5762 1970-01-01 00:00:09.820017910     NaN            NaN           NaN   \n",
       "5763 1970-01-01 00:00:09.969376119     NaN            NaN           NaN   \n",
       "5764 1970-01-01 00:00:09.920371336     NaN            NaN           NaN   \n",
       "\n",
       "      Payment Mode  Type of Acc  District  Locality  Sum Insured   Plan Type  \\\n",
       "5760           NaN          NaN       NaN       NaN           NaN        NaN   \n",
       "5761           NaN          NaN       NaN       NaN           NaN        NaN   \n",
       "5762           NaN          NaN       NaN       NaN           NaN        NaN   \n",
       "5763           NaN          NaN       NaN       NaN           NaN        NaN   \n",
       "5764           NaN          NaN       NaN       NaN           NaN        NaN   \n",
       "\n",
       "      Proof Id  \n",
       "5760       NaN  \n",
       "5761       NaN  \n",
       "5762       NaN  \n",
       "5763       NaN  \n",
       "5764       NaN  "
      ]
     },
     "execution_count": 23,
     "metadata": {},
     "output_type": "execute_result"
    }
   ],
   "source": [
    "test_df.head()"
   ]
  },
  {
   "cell_type": "code",
   "execution_count": null,
   "metadata": {},
   "outputs": [],
   "source": [
    "test_df.columns = test_df.columns.str.strip()\n",
    "test_df.to_sql('Customers',engine,if_exists='append',index=False)"
   ]
  }
 ],
 "metadata": {
  "kernelspec": {
   "display_name": "sql",
   "language": "python",
   "name": "python3"
  },
  "language_info": {
   "codemirror_mode": {
    "name": "ipython",
    "version": 3
   },
   "file_extension": ".py",
   "mimetype": "text/x-python",
   "name": "python",
   "nbconvert_exporter": "python",
   "pygments_lexer": "ipython3",
   "version": "3.9.15"
  },
  "orig_nbformat": 4,
  "vscode": {
   "interpreter": {
    "hash": "9d916c2122df3488d01370e9ab25d0065a06f6877d603745685f129d0a8a25c4"
   }
  }
 },
 "nbformat": 4,
 "nbformat_minor": 2
}
