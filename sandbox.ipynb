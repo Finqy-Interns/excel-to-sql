{
 "cells": [
  {
   "cell_type": "code",
   "execution_count": 6,
   "metadata": {},
   "outputs": [],
   "source": [
    "import pandas as pd\n",
    "import numpy as np\n",
    "import openpyxl\n",
    "import sqlizer\n",
    "import sqlite3\n",
    "import mysql.connector\n",
    "import sqlalchemy\n",
    "import pymysql\n",
    "import os\n",
    "from datetime import datetime"
   ]
  },
  {
   "cell_type": "code",
   "execution_count": 23,
   "metadata": {},
   "outputs": [],
   "source": [
    "conn=mysql.connector.connect(\n",
    "    host='car-campaign-data.mysql.database.azure.com',\n",
    "    user='harsh_shah',\n",
    "    password='vInwun-ruqvux-0xuvty',\n",
    "    database='test',\n",
    "    port=3306,\n",
    "    client_flags=[mysql.connector.ClientFlag.SSL],\n",
    "    ssl_ca=\"/Users/nilaygaitonde/Documents/E-RevBay/SQLwork/DigiCertGlobalRootG2.crt.pem\"\n",
    ")\n",
    "mycursor=conn.cursor()"
   ]
  },
  {
   "cell_type": "code",
   "execution_count": 13,
   "metadata": {},
   "outputs": [],
   "source": [
    "d = {'col1': [1, 2], 'col2': [3, 4]}\n",
    "df = pd.DataFrame(data=d)"
   ]
  },
  {
   "cell_type": "code",
   "execution_count": 21,
   "metadata": {},
   "outputs": [],
   "source": [
    "engine = sqlalchemy.create_engine(\"mysql+pymysql://\" + 'harsh_shah' + \":\" + 'vInwun-ruqvux-0xuvty' + \"@\" + 'car-campaign-data.mysql.database.azure.com' + \"/\" + 'test')"
   ]
  },
  {
   "cell_type": "code",
   "execution_count": 25,
   "metadata": {},
   "outputs": [
    {
     "data": {
      "text/plain": [
       "2"
      ]
     },
     "execution_count": 25,
     "metadata": {},
     "output_type": "execute_result"
    }
   ],
   "source": [
    "df.to_sql('testing',engine,if_exists='append',index=False)\n",
    "        # df.to_sql('Customers',engine,if_exists='append',index=False)"
   ]
  }
 ],
 "metadata": {
  "kernelspec": {
   "display_name": "sql",
   "language": "python",
   "name": "python3"
  },
  "language_info": {
   "codemirror_mode": {
    "name": "ipython",
    "version": 3
   },
   "file_extension": ".py",
   "mimetype": "text/x-python",
   "name": "python",
   "nbconvert_exporter": "python",
   "pygments_lexer": "ipython3",
   "version": "3.9.15 (main, Nov 24 2022, 08:29:02) \n[Clang 14.0.6 ]"
  },
  "orig_nbformat": 4,
  "vscode": {
   "interpreter": {
    "hash": "9d916c2122df3488d01370e9ab25d0065a06f6877d603745685f129d0a8a25c4"
   }
  }
 },
 "nbformat": 4,
 "nbformat_minor": 2
}
